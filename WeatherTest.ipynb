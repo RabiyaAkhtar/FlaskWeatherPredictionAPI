{
  "nbformat": 4,
  "nbformat_minor": 0,
  "metadata": {
    "colab": {
      "provenance": [],
      "authorship_tag": "ABX9TyPJSayS3pRbKkoEGukU86Kd",
      "include_colab_link": true
    },
    "kernelspec": {
      "name": "python3",
      "display_name": "Python 3"
    },
    "language_info": {
      "name": "python"
    }
  },
  "cells": [
    {
      "cell_type": "markdown",
      "metadata": {
        "id": "view-in-github",
        "colab_type": "text"
      },
      "source": [
        "<a href=\"https://colab.research.google.com/github/RabiyaAkhtar/FlaskWeatherPredictionAPI/blob/main/WeatherTest.ipynb\" target=\"_parent\"><img src=\"https://colab.research.google.com/assets/colab-badge.svg\" alt=\"Open In Colab\"/></a>"
      ]
    },
    {
      "cell_type": "code",
      "source": [
        "!pip install pyngrok"
      ],
      "metadata": {
        "collapsed": true,
        "id": "W6gZ-3Hq4eHS"
      },
      "execution_count": null,
      "outputs": []
    },
    {
      "cell_type": "code",
      "source": [
        "# Step 1: Running Flask app in background\n",
        "from flask import Flask, request, jsonify\n",
        "from threading import Thread\n",
        "import requests\n",
        "from getpass import getpass\n",
        "from pyngrok import ngrok\n",
        "\n",
        "# Flask app setup\n",
        "app = Flask(__name__)\n",
        "\n",
        "@app.route('/predict', methods=['POST'])\n",
        "def predict_weather():\n",
        "    data = request.get_json()\n",
        "\n",
        "    lat = data.get('lat')\n",
        "    lon = data.get('lon')\n",
        "    api_key = data.get('api_key')\n",
        "\n",
        "    if not all([lat, lon, api_key]):\n",
        "        return jsonify({'error': 'Missing data'}), 400\n",
        "\n",
        "    try:\n",
        "        url = f\"https://api.openweathermap.org/data/2.5/weather?lat={lat}&lon={lon}&appid={api_key}&units=metric\"\n",
        "        response = requests.get(url)\n",
        "        weather_data = response.json()\n",
        "\n",
        "        if response.status_code != 200:\n",
        "            return jsonify({'error': weather_data.get('message', 'API error')}), response.status_code\n",
        "\n",
        "        description = weather_data['weather'][0]['description']\n",
        "        temp = weather_data['main']['temp']\n",
        "        city = weather_data.get('name', 'Unknown location')\n",
        "        prediction = f\"Weather in {city}: {description}, {temp}°C\"\n",
        "\n",
        "        return jsonify({'prediction': prediction})\n",
        "    except Exception as e:\n",
        "        return jsonify({'error': str(e)}), 500\n",
        "\n",
        "def run_app():\n",
        "    app.run(port=5000)"
      ],
      "metadata": {
        "collapsed": true,
        "id": "4S_pDRRnv53m"
      },
      "execution_count": 4,
      "outputs": []
    },
    {
      "cell_type": "code",
      "source": [
        "# Step 2: Starting Flask in a thread\n",
        "Thread(target=run_app).start()"
      ],
      "metadata": {
        "id": "ZPSl4W102-n-"
      },
      "execution_count": null,
      "outputs": []
    },
    {
      "cell_type": "code",
      "source": [
        "# Step 3: Ngrok authentication and tunnel setup\n",
        "auth_token = getpass(\"Enter your ngrok auth token: \")\n",
        "ngrok.set_auth_token(auth_token)\n",
        "public_url = ngrok.connect(5000)\n",
        "print(\" * ngrok tunnel URL:\", public_url)"
      ],
      "metadata": {
        "id": "FQm4sTPR27Bc"
      },
      "execution_count": null,
      "outputs": []
    },
    {
      "cell_type": "code",
      "source": [
        "# Step 4: Sending POST request automatically using the latest ngrok URL\n",
        "import time\n",
        "import requests\n",
        "\n",
        "time.sleep(2)  # Allowing server to fully spin up\n",
        "\n",
        "# Taking user input for latitude and longitude\n",
        "lat = float(input(\"Enter latitude: \"))\n",
        "lon = float(input(\"Enter longitude: \"))\n",
        "\n",
        "data = {\n",
        "    \"lat\": lat,\n",
        "    \"lon\": lon,\n",
        "    'api_key': '2dcee931adcff8d466293f94112eadad'\n",
        "}\n",
        "\n",
        "\n",
        "response = requests.post(f\"{public_url.public_url}/predict\", json=data)\n",
        "\n",
        "print(\"Status Code:\", response.status_code)\n",
        "if response.status_code == 200:\n",
        "    print(\"Response JSON:\", response.json())\n",
        "else:\n",
        "    print(\"Error:\", response.text)\n"
      ],
      "metadata": {
        "id": "ssR_y3QU3FEM"
      },
      "execution_count": null,
      "outputs": []
    }
  ]
}